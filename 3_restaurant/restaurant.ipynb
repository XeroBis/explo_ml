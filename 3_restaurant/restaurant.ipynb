{
 "cells": [
  {
   "cell_type": "code",
   "execution_count": 1,
   "metadata": {},
   "outputs": [],
   "source": [
    "import pandas as pd\n",
    "from sklearn.feature_extraction.text import CountVectorizer, TfidfVectorizer\n",
    "from sklearn.model_selection import train_test_split\n",
    "from sklearn.naive_bayes import MultinomialNB\n",
    "from sklearn.linear_model import LogisticRegression\n",
    "from sklearn.ensemble import RandomForestClassifier\n",
    "from sklearn.metrics import accuracy_score\n",
    "from sklearn.pipeline import FeatureUnion, Pipeline\n",
    "\n"
   ]
  },
  {
   "cell_type": "code",
   "execution_count": 2,
   "metadata": {},
   "outputs": [],
   "source": [
    "df = pd.read_csv(\"Restaurant_Reviews.tsv\", sep=\"\\t\")\n",
    "\n",
    "### Test de preprocessing ###\n",
    "# from nltk.corpus import stopwords\n",
    "# from nltk.tokenize import word_tokenize\n",
    "# from nltk.stem import PorterStemmer\n",
    "\n",
    "\n",
    "# df['Review'] = df['Review'].str.replace('[^\\w\\s]', '')\n",
    "\n",
    "# Tokenization\n",
    "# stop_words = set(stopwords.words('english'))\n",
    "# df['Review'] = df['Review'].apply(lambda x: [word for word in word_tokenize(x)])\n",
    "\n",
    "# # Stemming\n",
    "# # stemmer = PorterStemmer()\n",
    "# # df['Review'] = df['Review'].apply(lambda x: [stemmer.stem(word) for word in x])\n",
    "# df['Review'] = df['Review'].apply(lambda x: ' '.join(x))"
   ]
  },
  {
   "cell_type": "code",
   "execution_count": 3,
   "metadata": {},
   "outputs": [],
   "source": [
    "# test of n_grams\n",
    "def nozip_ngrams(text, n=4):\n",
    "    return [text[i:i+n] for i in range(len(text)-n+1)]"
   ]
  },
  {
   "cell_type": "code",
   "execution_count": 4,
   "metadata": {},
   "outputs": [],
   "source": [
    "X_train, X_test, y_train, y_test = train_test_split(df['Review'], df['Liked'], test_size=0.2, random_state=42)\n",
    "\n",
    "vectorizers = [CountVectorizer, TfidfVectorizer]\n",
    "n_grams = [(1, 1), (1, 2), (1, 3)]\n",
    "classiffiers = [MultinomialNB, LogisticRegression, RandomForestClassifier]\n",
    "\n",
    "res = []\n",
    "\n",
    "def test_vect_gram_class(vector, n_gram, classifier):\n",
    "    combined_features = FeatureUnion([\n",
    "        ('vect', vector(ngram_range=n_gram)),\n",
    "        # ('manual', vector(tokenizer=nozip_ngrams)) # test n_gram manual\n",
    "    ])\n",
    "    \n",
    "    pipeline = Pipeline([\n",
    "        ('features', combined_features),\n",
    "        ('clf', classifier())\n",
    "    ])\n",
    "\n",
    "    pipeline.fit(X_train, y_train)\n",
    "\n",
    "    y_predictions = pipeline.predict(X_test)\n",
    "\n",
    "    accuracy = accuracy_score(y_test, y_predictions)\n",
    "    res.append([vector.__name__, n_gram, classifier.__name__, accuracy, pipeline])\n",
    "\n",
    "\n",
    "for vectorizer in vectorizers:\n",
    "    for n_gram in n_grams:\n",
    "        for classifier in classiffiers:\n",
    "            test_vect_gram_class(vectorizer, n_gram, classifier)"
   ]
  },
  {
   "cell_type": "code",
   "execution_count": 5,
   "metadata": {},
   "outputs": [
    {
     "data": {
      "text/plain": [
       "['TfidfVectorizer',\n",
       " (1, 3),\n",
       " 'MultinomialNB',\n",
       " 0.83,\n",
       " Pipeline(steps=[('features',\n",
       "                  FeatureUnion(transformer_list=[('vect',\n",
       "                                                  TfidfVectorizer(ngram_range=(1,\n",
       "                                                                               3)))])),\n",
       "                 ('clf', MultinomialNB())])]"
      ]
     },
     "execution_count": 5,
     "metadata": {},
     "output_type": "execute_result"
    }
   ],
   "source": [
    "def get_max(res):\n",
    "    max_acc = 0\n",
    "    max_res = []\n",
    "    for r in res:\n",
    "        if r[3] > max_acc:\n",
    "            max_acc = r[3]\n",
    "            max_res = r\n",
    "    return max_res\n",
    "get_max(res)"
   ]
  },
  {
   "cell_type": "code",
   "execution_count": 7,
   "metadata": {},
   "outputs": [
    {
     "data": {
      "text/plain": [
       "array([1, 0, 1, 0], dtype=int64)"
      ]
     },
     "execution_count": 7,
     "metadata": {},
     "output_type": "execute_result"
    }
   ],
   "source": [
    "best_model = get_max(res)[4]\n",
    "\n",
    "text = [\"I love this restaurant\", \"Terrible, hated it\", \"It was good\", \"I went to this restaurant.\"]\n",
    "best_model.predict(text)"
   ]
  }
 ],
 "metadata": {
  "kernelspec": {
   "display_name": ".venv",
   "language": "python",
   "name": "python3"
  },
  "language_info": {
   "codemirror_mode": {
    "name": "ipython",
    "version": 3
   },
   "file_extension": ".py",
   "mimetype": "text/x-python",
   "name": "python",
   "nbconvert_exporter": "python",
   "pygments_lexer": "ipython3",
   "version": "3.12.0"
  }
 },
 "nbformat": 4,
 "nbformat_minor": 2
}
