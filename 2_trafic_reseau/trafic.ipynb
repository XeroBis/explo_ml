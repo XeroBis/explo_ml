{
 "cells": [
  {
   "cell_type": "markdown",
   "metadata": {},
   "source": [
    "# Caractérisation des fichiers"
   ]
  },
  {
   "cell_type": "markdown",
   "metadata": {},
   "source": [
    "## Capture 1 "
   ]
  },
  {
   "cell_type": "markdown",
   "metadata": {},
   "source": [
    "### Statistiques \n",
    "![alt text](images/capture_1_statistiques.png \"Title\")\n",
    "\n",
    "### Nombre de sessions par protocole\n",
    "![alt text](images/capture_1_conversations.png \"Title\")\n",
    "\n",
    "### Les différents protocoles utilisés\n",
    "![alt text](images/capture_1_protocoles.png \"Title\")"
   ]
  },
  {
   "cell_type": "markdown",
   "metadata": {},
   "source": [
    "## Capture 2"
   ]
  },
  {
   "cell_type": "markdown",
   "metadata": {},
   "source": [
    "### Statistiques\n",
    "![alt text](images/capture_2_statistiques.png \"Title\")\n",
    "\n",
    "### Nombre de sessions par protocole\n",
    "![alt text](images/capture_2_conversations.png \"Title\")\n",
    "\n",
    "### Les différents protocoles utilisés\n",
    "![alt text](images/capture_2_protocoles.png \"Title\")"
   ]
  },
  {
   "cell_type": "markdown",
   "metadata": {},
   "source": [
    "# Exploitation des fichiers"
   ]
  },
  {
   "cell_type": "code",
   "execution_count": 2,
   "metadata": {},
   "outputs": [],
   "source": [
    "import pandas as pd"
   ]
  },
  {
   "cell_type": "code",
   "execution_count": 4,
   "metadata": {},
   "outputs": [
    {
     "data": {
      "text/html": [
       "<div>\n",
       "<style scoped>\n",
       "    .dataframe tbody tr th:only-of-type {\n",
       "        vertical-align: middle;\n",
       "    }\n",
       "\n",
       "    .dataframe tbody tr th {\n",
       "        vertical-align: top;\n",
       "    }\n",
       "\n",
       "    .dataframe thead th {\n",
       "        text-align: right;\n",
       "    }\n",
       "</style>\n",
       "<table border=\"1\" class=\"dataframe\">\n",
       "  <thead>\n",
       "    <tr style=\"text-align: right;\">\n",
       "      <th></th>\n",
       "      <th>No.</th>\n",
       "      <th>Time</th>\n",
       "      <th>Source</th>\n",
       "      <th>Destination</th>\n",
       "      <th>Protocol</th>\n",
       "      <th>Length</th>\n",
       "      <th>Info</th>\n",
       "    </tr>\n",
       "  </thead>\n",
       "  <tbody>\n",
       "    <tr>\n",
       "      <th>0</th>\n",
       "      <td>1</td>\n",
       "      <td>0.000000</td>\n",
       "      <td>172.18.226.121</td>\n",
       "      <td>192.168.229.51</td>\n",
       "      <td>TCP</td>\n",
       "      <td>60</td>\n",
       "      <td>52255  &gt;  10443 [ACK] Seq=1 Ack=1 Win=2053 Len=0</td>\n",
       "    </tr>\n",
       "    <tr>\n",
       "      <th>1</th>\n",
       "      <td>2</td>\n",
       "      <td>0.000332</td>\n",
       "      <td>172.18.226.121</td>\n",
       "      <td>192.168.229.51</td>\n",
       "      <td>TLSv1.2</td>\n",
       "      <td>124</td>\n",
       "      <td>Application Data</td>\n",
       "    </tr>\n",
       "    <tr>\n",
       "      <th>2</th>\n",
       "      <td>3</td>\n",
       "      <td>0.000334</td>\n",
       "      <td>192.168.229.51</td>\n",
       "      <td>172.18.226.121</td>\n",
       "      <td>ESP</td>\n",
       "      <td>146</td>\n",
       "      <td>ESP (SPI=0xe1b72b48)</td>\n",
       "    </tr>\n",
       "    <tr>\n",
       "      <th>3</th>\n",
       "      <td>4</td>\n",
       "      <td>0.000493</td>\n",
       "      <td>172.18.226.121</td>\n",
       "      <td>192.168.229.51</td>\n",
       "      <td>TLSv1.2</td>\n",
       "      <td>124</td>\n",
       "      <td>Application Data</td>\n",
       "    </tr>\n",
       "    <tr>\n",
       "      <th>4</th>\n",
       "      <td>5</td>\n",
       "      <td>0.000495</td>\n",
       "      <td>172.18.226.121</td>\n",
       "      <td>192.168.229.51</td>\n",
       "      <td>TLSv1.2</td>\n",
       "      <td>134</td>\n",
       "      <td>Application Data</td>\n",
       "    </tr>\n",
       "  </tbody>\n",
       "</table>\n",
       "</div>"
      ],
      "text/plain": [
       "   No.      Time          Source     Destination Protocol  Length  \\\n",
       "0    1  0.000000  172.18.226.121  192.168.229.51      TCP      60   \n",
       "1    2  0.000332  172.18.226.121  192.168.229.51  TLSv1.2     124   \n",
       "2    3  0.000334  192.168.229.51  172.18.226.121      ESP     146   \n",
       "3    4  0.000493  172.18.226.121  192.168.229.51  TLSv1.2     124   \n",
       "4    5  0.000495  172.18.226.121  192.168.229.51  TLSv1.2     134   \n",
       "\n",
       "                                               Info  \n",
       "0  52255  >  10443 [ACK] Seq=1 Ack=1 Win=2053 Len=0  \n",
       "1                                  Application Data  \n",
       "2                              ESP (SPI=0xe1b72b48)  \n",
       "3                                  Application Data  \n",
       "4                                  Application Data  "
      ]
     },
     "execution_count": 4,
     "metadata": {},
     "output_type": "execute_result"
    }
   ],
   "source": [
    "df = pd.read_csv(\"capture1.csv\")\n",
    "df.head()"
   ]
  }
 ],
 "metadata": {
  "kernelspec": {
   "display_name": ".venv",
   "language": "python",
   "name": "python3"
  },
  "language_info": {
   "codemirror_mode": {
    "name": "ipython",
    "version": 3
   },
   "file_extension": ".py",
   "mimetype": "text/x-python",
   "name": "python",
   "nbconvert_exporter": "python",
   "pygments_lexer": "ipython3",
   "version": "3.12.0"
  }
 },
 "nbformat": 4,
 "nbformat_minor": 2
}
